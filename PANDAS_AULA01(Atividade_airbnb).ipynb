{
  "nbformat": 4,
  "nbformat_minor": 0,
  "metadata": {
    "colab": {
      "provenance": [],
      "authorship_tag": "ABX9TyOAaYI5aAb3d2uQFuW9XZaq",
      "include_colab_link": true
    },
    "kernelspec": {
      "name": "python3",
      "display_name": "Python 3"
    },
    "language_info": {
      "name": "python"
    }
  },
  "cells": [
    {
      "cell_type": "markdown",
      "metadata": {
        "id": "view-in-github",
        "colab_type": "text"
      },
      "source": [
        "<a href=\"https://colab.research.google.com/github/allyssonendo/Soulcode-PANDAS/blob/main/PANDAS_AULA01(Atividade_airbnb).ipynb\" target=\"_parent\"><img src=\"https://colab.research.google.com/assets/colab-badge.svg\" alt=\"Open In Colab\"/></a>"
      ]
    },
    {
      "cell_type": "markdown",
      "source": [
        "#Instalando o gcsfs\n"
      ],
      "metadata": {
        "id": "wYdcaeGff5v4"
      }
    },
    {
      "cell_type": "code",
      "execution_count": 1,
      "metadata": {
        "id": "Xe76horwfYWT",
        "colab": {
          "base_uri": "https://localhost:8080/"
        },
        "outputId": "46d011d0-86c0-4e63-da9f-230a7ef6c4e6"
      },
      "outputs": [
        {
          "output_type": "stream",
          "name": "stdout",
          "text": [
            "Installing collected packages: multidict, frozenlist, async-timeout, yarl, aiosignal, aiohttp, gcsfs\n",
            "Successfully installed aiohttp-3.8.4 aiosignal-1.3.1 async-timeout-4.0.2 frozenlist-1.3.3 gcsfs-2023.3.0 multidict-6.0.4 yarl-1.8.2\n"
          ]
        }
      ],
      "source": [
        "pip install gcsfs"
      ]
    },
    {
      "cell_type": "code",
      "source": [
        "pip install pandera"
      ],
      "metadata": {
        "id": "A0_pSnqe_nnc"
      },
      "execution_count": null,
      "outputs": []
    },
    {
      "cell_type": "markdown",
      "source": [
        "##Importando bibliotecas"
      ],
      "metadata": {
        "id": "v4FrXOKfgEIq"
      }
    },
    {
      "cell_type": "code",
      "source": [
        "import pandas as pd\n",
        "import pandera as pa\n",
        "import numpy as np\n",
        "import os\n",
        "from google.cloud import storage"
      ],
      "metadata": {
        "id": "imnsQIGvgJyg"
      },
      "execution_count": 3,
      "outputs": []
    },
    {
      "cell_type": "markdown",
      "source": [
        "##Conectando com o bucket do Google Cloud\n",
        "\n",
        "\n"
      ],
      "metadata": {
        "id": "zhJtjk5JgymO"
      }
    },
    {
      "cell_type": "code",
      "source": [
        "#CONFIGURANDO DA CHAVE DE SEGURANCA (Enviada com o projeto)\n",
        "#Carrega o token para o ambiente de serviço\n",
        "serviceAccount = '/content/erudite-store-377820-f099033ba55b.json'\n",
        "os.environ['GOOGLE_APPLICATION_CREDENTIALS'] = serviceAccount"
      ],
      "metadata": {
        "id": "g6WrUGc1g2Wh"
      },
      "execution_count": 4,
      "outputs": []
    },
    {
      "cell_type": "code",
      "source": [
        "#Configurações Google Cloud Storage\n",
        "client = storage.Client()\n",
        "bucket = client.get_bucket('allyssonendo01')\n",
        "bucket.blob('amsterdam_weekdays.csv')\n",
        "path = 'gs://allyssonendo01/brutos/amsterdam_weekdays.csv'"
      ],
      "metadata": {
        "id": "l36gXRRjg8ce"
      },
      "execution_count": 6,
      "outputs": []
    },
    {
      "cell_type": "markdown",
      "source": [
        "##Extraindo dados do DF"
      ],
      "metadata": {
        "id": "hjXvCSPYhPH0"
      }
    },
    {
      "cell_type": "code",
      "source": [
        "df = pd.read_csv(path)"
      ],
      "metadata": {
        "id": "OS94oetMhSFf"
      },
      "execution_count": 7,
      "outputs": []
    },
    {
      "cell_type": "markdown",
      "source": [
        "##Pré Análise"
      ],
      "metadata": {
        "id": "oDHImJH6hbFK"
      }
    },
    {
      "cell_type": "code",
      "source": [
        "df.head(10)"
      ],
      "metadata": {
        "id": "aOcIfhh_hdv6"
      },
      "execution_count": null,
      "outputs": []
    },
    {
      "cell_type": "markdown",
      "source": [
        "##Transformações"
      ],
      "metadata": {
        "id": "bFuE-EMZjBwf"
      }
    },
    {
      "cell_type": "code",
      "source": [
        "#cria o primeiro backup de df em dfback\n",
        "\n",
        "dfback = df.copy()\n",
        "df.head(3)"
      ],
      "metadata": {
        "id": "_mETY3KljEIY"
      },
      "execution_count": null,
      "outputs": []
    },
    {
      "cell_type": "code",
      "source": [
        "#Drop da coluna Unnamed: 0\n",
        "df.drop(['Unnamed: 0'],axis = 1,inplace = True)"
      ],
      "metadata": {
        "id": "_KwZHA2ZjFSo"
      },
      "execution_count": 10,
      "outputs": []
    },
    {
      "cell_type": "code",
      "source": [
        "df"
      ],
      "metadata": {
        "id": "ZT_wip7_zEla"
      },
      "execution_count": null,
      "outputs": []
    },
    {
      "cell_type": "code",
      "source": [
        "#attr_index\tattr_index_norm\trest_index\trest_index_norm"
      ],
      "metadata": {
        "id": "9SWECMAWymx-"
      },
      "execution_count": null,
      "outputs": []
    },
    {
      "cell_type": "code",
      "source": [
        "#Trocando nome das coluna\n",
        "df.rename(columns={'realSum':'preco_total','room_type':'tipo_quarto',\t'room_shared':'quarto_compartilhado', 'room_private':'quarto_privativo',\t'person_capacity':'max_pessoas'},inplace = True)\n",
        "df.rename(columns={'host_is_superhost':'host_superhost',\t'multi':'varios_quartos',\t'biz':'uso_comercial',\t'cleanliness_rating':'classificacao_limpeza'},inplace=True)\n",
        "df.rename(columns={'guest_satisfaction_overall':'media_satisfacao_cliente',\t'bedrooms':'quantidade_quartos',\t'dist':'distancia_centro',\t'metro_dist':'distancia_metro','lng':'longitude',\t'lat':'latitude'},inplace=True)"
      ],
      "metadata": {
        "id": "Rb5NlXVQk7dp"
      },
      "execution_count": 12,
      "outputs": []
    },
    {
      "cell_type": "code",
      "source": [
        "pd.unique(df['tipo_quarto'])"
      ],
      "metadata": {
        "colab": {
          "base_uri": "https://localhost:8080/"
        },
        "id": "w1ZiYzMc2iUa",
        "outputId": "54999000-e539-4b81-f1d1-70af20f8559d"
      },
      "execution_count": 13,
      "outputs": [
        {
          "output_type": "execute_result",
          "data": {
            "text/plain": [
              "array(['Private room', 'Entire home/apt', 'Shared room'], dtype=object)"
            ]
          },
          "metadata": {},
          "execution_count": 13
        }
      ]
    },
    {
      "cell_type": "code",
      "source": [
        "#Cria o segundo backup do df\n",
        "dfback2 = df.copy()\n",
        "dfback2"
      ],
      "metadata": {
        "id": "tZYnhwGMVrNh"
      },
      "execution_count": null,
      "outputs": []
    },
    {
      "cell_type": "code",
      "source": [
        "# drop de (quarto_compartilhado\tquarto_privativo) pois tipo_quarto ja possui a informação dos dois\n",
        "df.drop(['quarto_compartilhado','quarto_privativo'],axis = 1,inplace=True)\n"
      ],
      "metadata": {
        "id": "smBofHbFViV3"
      },
      "execution_count": 18,
      "outputs": []
    },
    {
      "cell_type": "code",
      "source": [
        "#Validando o DF\n",
        "schema = pa.DataFrameSchema(\n",
        "     columns = {\n",
        "        'preco_total':pa.Column(pa.Float),\n",
        "        'tipo_quarto':pa.Column(pa.String),\n",
        "        'max_pessoas':pa.Column(pa.Float),\n",
        "        'host_superhost':pa.Column(pa.Bool),\n",
        "        'varios_quartos':pa.Column(pa.Int),\n",
        "        'uso_comercial':pa.Column(pa.Int),\n",
        "        'classificacao_limpeza':pa.Column(pa.Float),\n",
        "        'media_satisfacao_cliente':pa.Column(pa.Float),\n",
        "        'quantidade_quartos':pa.Column(pa.Int),\n",
        "        'distancia_centro':pa.Column(pa.Float),\n",
        "        'distancia_metro':pa.Column(pa.Float),\n",
        "        'longitude':pa.Column(pa.Float),\n",
        "        'latitude':pa.Column(pa.Float),\n",
        "     }\n",
        ")"
      ],
      "metadata": {
        "id": "hnYe3evQBiIq"
      },
      "execution_count": 19,
      "outputs": []
    },
    {
      "cell_type": "code",
      "source": [
        "#Validando o Dataframe df\n",
        "schema.validate(df)"
      ],
      "metadata": {
        "id": "_9v2uxLZCuVz",
        "colab": {
          "base_uri": "https://localhost:8080/",
          "height": 487
        },
        "outputId": "bb42d7f1-bc2d-4cd7-86f6-10214243740d"
      },
      "execution_count": 20,
      "outputs": [
        {
          "output_type": "execute_result",
          "data": {
            "text/plain": [
              "      preco_total               tipo_quarto  max_pessoas  host_superhost  \\\n",
              "0      194.033698          quarto_privativo          2.0           False   \n",
              "1      344.245776          quarto_privativo          4.0           False   \n",
              "2      264.101422          quarto_privativo          2.0           False   \n",
              "3      433.529398          quarto_privativo          4.0           False   \n",
              "4      485.552926          quarto_privativo          2.0            True   \n",
              "...           ...                       ...          ...             ...   \n",
              "1098  2486.115342  casa_inteira/apartamento          2.0           False   \n",
              "1099   233.637194          quarto_privativo          2.0           False   \n",
              "1100   317.062311          quarto_privativo          2.0           False   \n",
              "1101  1812.855904  casa_inteira/apartamento          4.0           False   \n",
              "1102   258.008577      quarto_compartilhado          2.0           False   \n",
              "\n",
              "      varios_quartos  uso_comercial  classificacao_limpeza  \\\n",
              "0                  1              0                   10.0   \n",
              "1                  0              0                    8.0   \n",
              "2                  0              1                    9.0   \n",
              "3                  0              1                    9.0   \n",
              "4                  0              0                   10.0   \n",
              "...              ...            ...                    ...   \n",
              "1098               0              0                   10.0   \n",
              "1099               1              0                   10.0   \n",
              "1100               1              0                   10.0   \n",
              "1101               0              0                    8.0   \n",
              "1102               0              0                    8.0   \n",
              "\n",
              "      media_satisfacao_cliente  quantidade_quartos  distancia_centro  \\\n",
              "0                         93.0                   1          5.022964   \n",
              "1                         85.0                   1          0.488389   \n",
              "2                         87.0                   1          5.748312   \n",
              "3                         90.0                   2          0.384862   \n",
              "4                         98.0                   1          0.544738   \n",
              "...                        ...                 ...               ...   \n",
              "1098                     100.0                   1          2.375833   \n",
              "1099                      90.0                   1          4.719736   \n",
              "1100                      92.0                   1          0.598355   \n",
              "1101                      84.0                   5          1.943020   \n",
              "1102                      90.0                   1          0.280204   \n",
              "\n",
              "      distancia_metro  attr_index  attr_index_norm  rest_index  \\\n",
              "0            2.539380   78.690379         4.166708   98.253896   \n",
              "1            0.239404  631.176378        33.421209  837.280757   \n",
              "2            3.651621   75.275877         3.985908   95.386955   \n",
              "3            0.439876  493.272534        26.119108  875.033098   \n",
              "4            0.318693  552.830324        29.272733  815.305740   \n",
              "...               ...         ...              ...         ...   \n",
              "1098         1.436054  181.198355         9.594573  225.304203   \n",
              "1099         0.322263  108.024880         5.719989  134.775277   \n",
              "1100         0.751993  440.476515        23.323524  625.947562   \n",
              "1101         0.388532  257.948105        13.658524  336.589237   \n",
              "1102         0.516217  533.962653        28.273677  807.492307   \n",
              "\n",
              "      rest_index_norm  longitude  latitude  \n",
              "0            6.846473    4.90569  52.41772  \n",
              "1           58.342928    4.90005  52.37432  \n",
              "2            6.646700    4.97512  52.36103  \n",
              "3           60.973565    4.89417  52.37663  \n",
              "4           56.811677    4.90051  52.37508  \n",
              "...               ...        ...       ...  \n",
              "1098        15.699521    4.85869  52.37677  \n",
              "1099         9.391335    4.83611  52.34910  \n",
              "1100        43.616927    4.88897  52.37798  \n",
              "1101        23.454022    4.90688  52.35794  \n",
              "1102        56.267226    4.89295  52.37575  \n",
              "\n",
              "[1103 rows x 17 columns]"
            ],
            "text/html": [
              "\n",
              "  <div id=\"df-6690ca70-ddb0-4308-8376-1886a94da896\">\n",
              "    <div class=\"colab-df-container\">\n",
              "      <div>\n",
              "<style scoped>\n",
              "    .dataframe tbody tr th:only-of-type {\n",
              "        vertical-align: middle;\n",
              "    }\n",
              "\n",
              "    .dataframe tbody tr th {\n",
              "        vertical-align: top;\n",
              "    }\n",
              "\n",
              "    .dataframe thead th {\n",
              "        text-align: right;\n",
              "    }\n",
              "</style>\n",
              "<table border=\"1\" class=\"dataframe\">\n",
              "  <thead>\n",
              "    <tr style=\"text-align: right;\">\n",
              "      <th></th>\n",
              "      <th>preco_total</th>\n",
              "      <th>tipo_quarto</th>\n",
              "      <th>max_pessoas</th>\n",
              "      <th>host_superhost</th>\n",
              "      <th>varios_quartos</th>\n",
              "      <th>uso_comercial</th>\n",
              "      <th>classificacao_limpeza</th>\n",
              "      <th>media_satisfacao_cliente</th>\n",
              "      <th>quantidade_quartos</th>\n",
              "      <th>distancia_centro</th>\n",
              "      <th>distancia_metro</th>\n",
              "      <th>attr_index</th>\n",
              "      <th>attr_index_norm</th>\n",
              "      <th>rest_index</th>\n",
              "      <th>rest_index_norm</th>\n",
              "      <th>longitude</th>\n",
              "      <th>latitude</th>\n",
              "    </tr>\n",
              "  </thead>\n",
              "  <tbody>\n",
              "    <tr>\n",
              "      <th>0</th>\n",
              "      <td>194.033698</td>\n",
              "      <td>quarto_privativo</td>\n",
              "      <td>2.0</td>\n",
              "      <td>False</td>\n",
              "      <td>1</td>\n",
              "      <td>0</td>\n",
              "      <td>10.0</td>\n",
              "      <td>93.0</td>\n",
              "      <td>1</td>\n",
              "      <td>5.022964</td>\n",
              "      <td>2.539380</td>\n",
              "      <td>78.690379</td>\n",
              "      <td>4.166708</td>\n",
              "      <td>98.253896</td>\n",
              "      <td>6.846473</td>\n",
              "      <td>4.90569</td>\n",
              "      <td>52.41772</td>\n",
              "    </tr>\n",
              "    <tr>\n",
              "      <th>1</th>\n",
              "      <td>344.245776</td>\n",
              "      <td>quarto_privativo</td>\n",
              "      <td>4.0</td>\n",
              "      <td>False</td>\n",
              "      <td>0</td>\n",
              "      <td>0</td>\n",
              "      <td>8.0</td>\n",
              "      <td>85.0</td>\n",
              "      <td>1</td>\n",
              "      <td>0.488389</td>\n",
              "      <td>0.239404</td>\n",
              "      <td>631.176378</td>\n",
              "      <td>33.421209</td>\n",
              "      <td>837.280757</td>\n",
              "      <td>58.342928</td>\n",
              "      <td>4.90005</td>\n",
              "      <td>52.37432</td>\n",
              "    </tr>\n",
              "    <tr>\n",
              "      <th>2</th>\n",
              "      <td>264.101422</td>\n",
              "      <td>quarto_privativo</td>\n",
              "      <td>2.0</td>\n",
              "      <td>False</td>\n",
              "      <td>0</td>\n",
              "      <td>1</td>\n",
              "      <td>9.0</td>\n",
              "      <td>87.0</td>\n",
              "      <td>1</td>\n",
              "      <td>5.748312</td>\n",
              "      <td>3.651621</td>\n",
              "      <td>75.275877</td>\n",
              "      <td>3.985908</td>\n",
              "      <td>95.386955</td>\n",
              "      <td>6.646700</td>\n",
              "      <td>4.97512</td>\n",
              "      <td>52.36103</td>\n",
              "    </tr>\n",
              "    <tr>\n",
              "      <th>3</th>\n",
              "      <td>433.529398</td>\n",
              "      <td>quarto_privativo</td>\n",
              "      <td>4.0</td>\n",
              "      <td>False</td>\n",
              "      <td>0</td>\n",
              "      <td>1</td>\n",
              "      <td>9.0</td>\n",
              "      <td>90.0</td>\n",
              "      <td>2</td>\n",
              "      <td>0.384862</td>\n",
              "      <td>0.439876</td>\n",
              "      <td>493.272534</td>\n",
              "      <td>26.119108</td>\n",
              "      <td>875.033098</td>\n",
              "      <td>60.973565</td>\n",
              "      <td>4.89417</td>\n",
              "      <td>52.37663</td>\n",
              "    </tr>\n",
              "    <tr>\n",
              "      <th>4</th>\n",
              "      <td>485.552926</td>\n",
              "      <td>quarto_privativo</td>\n",
              "      <td>2.0</td>\n",
              "      <td>True</td>\n",
              "      <td>0</td>\n",
              "      <td>0</td>\n",
              "      <td>10.0</td>\n",
              "      <td>98.0</td>\n",
              "      <td>1</td>\n",
              "      <td>0.544738</td>\n",
              "      <td>0.318693</td>\n",
              "      <td>552.830324</td>\n",
              "      <td>29.272733</td>\n",
              "      <td>815.305740</td>\n",
              "      <td>56.811677</td>\n",
              "      <td>4.90051</td>\n",
              "      <td>52.37508</td>\n",
              "    </tr>\n",
              "    <tr>\n",
              "      <th>...</th>\n",
              "      <td>...</td>\n",
              "      <td>...</td>\n",
              "      <td>...</td>\n",
              "      <td>...</td>\n",
              "      <td>...</td>\n",
              "      <td>...</td>\n",
              "      <td>...</td>\n",
              "      <td>...</td>\n",
              "      <td>...</td>\n",
              "      <td>...</td>\n",
              "      <td>...</td>\n",
              "      <td>...</td>\n",
              "      <td>...</td>\n",
              "      <td>...</td>\n",
              "      <td>...</td>\n",
              "      <td>...</td>\n",
              "      <td>...</td>\n",
              "    </tr>\n",
              "    <tr>\n",
              "      <th>1098</th>\n",
              "      <td>2486.115342</td>\n",
              "      <td>casa_inteira/apartamento</td>\n",
              "      <td>2.0</td>\n",
              "      <td>False</td>\n",
              "      <td>0</td>\n",
              "      <td>0</td>\n",
              "      <td>10.0</td>\n",
              "      <td>100.0</td>\n",
              "      <td>1</td>\n",
              "      <td>2.375833</td>\n",
              "      <td>1.436054</td>\n",
              "      <td>181.198355</td>\n",
              "      <td>9.594573</td>\n",
              "      <td>225.304203</td>\n",
              "      <td>15.699521</td>\n",
              "      <td>4.85869</td>\n",
              "      <td>52.37677</td>\n",
              "    </tr>\n",
              "    <tr>\n",
              "      <th>1099</th>\n",
              "      <td>233.637194</td>\n",
              "      <td>quarto_privativo</td>\n",
              "      <td>2.0</td>\n",
              "      <td>False</td>\n",
              "      <td>1</td>\n",
              "      <td>0</td>\n",
              "      <td>10.0</td>\n",
              "      <td>90.0</td>\n",
              "      <td>1</td>\n",
              "      <td>4.719736</td>\n",
              "      <td>0.322263</td>\n",
              "      <td>108.024880</td>\n",
              "      <td>5.719989</td>\n",
              "      <td>134.775277</td>\n",
              "      <td>9.391335</td>\n",
              "      <td>4.83611</td>\n",
              "      <td>52.34910</td>\n",
              "    </tr>\n",
              "    <tr>\n",
              "      <th>1100</th>\n",
              "      <td>317.062311</td>\n",
              "      <td>quarto_privativo</td>\n",
              "      <td>2.0</td>\n",
              "      <td>False</td>\n",
              "      <td>1</td>\n",
              "      <td>0</td>\n",
              "      <td>10.0</td>\n",
              "      <td>92.0</td>\n",
              "      <td>1</td>\n",
              "      <td>0.598355</td>\n",
              "      <td>0.751993</td>\n",
              "      <td>440.476515</td>\n",
              "      <td>23.323524</td>\n",
              "      <td>625.947562</td>\n",
              "      <td>43.616927</td>\n",
              "      <td>4.88897</td>\n",
              "      <td>52.37798</td>\n",
              "    </tr>\n",
              "    <tr>\n",
              "      <th>1101</th>\n",
              "      <td>1812.855904</td>\n",
              "      <td>casa_inteira/apartamento</td>\n",
              "      <td>4.0</td>\n",
              "      <td>False</td>\n",
              "      <td>0</td>\n",
              "      <td>0</td>\n",
              "      <td>8.0</td>\n",
              "      <td>84.0</td>\n",
              "      <td>5</td>\n",
              "      <td>1.943020</td>\n",
              "      <td>0.388532</td>\n",
              "      <td>257.948105</td>\n",
              "      <td>13.658524</td>\n",
              "      <td>336.589237</td>\n",
              "      <td>23.454022</td>\n",
              "      <td>4.90688</td>\n",
              "      <td>52.35794</td>\n",
              "    </tr>\n",
              "    <tr>\n",
              "      <th>1102</th>\n",
              "      <td>258.008577</td>\n",
              "      <td>quarto_compartilhado</td>\n",
              "      <td>2.0</td>\n",
              "      <td>False</td>\n",
              "      <td>0</td>\n",
              "      <td>0</td>\n",
              "      <td>8.0</td>\n",
              "      <td>90.0</td>\n",
              "      <td>1</td>\n",
              "      <td>0.280204</td>\n",
              "      <td>0.516217</td>\n",
              "      <td>533.962653</td>\n",
              "      <td>28.273677</td>\n",
              "      <td>807.492307</td>\n",
              "      <td>56.267226</td>\n",
              "      <td>4.89295</td>\n",
              "      <td>52.37575</td>\n",
              "    </tr>\n",
              "  </tbody>\n",
              "</table>\n",
              "<p>1103 rows × 17 columns</p>\n",
              "</div>\n",
              "      <button class=\"colab-df-convert\" onclick=\"convertToInteractive('df-6690ca70-ddb0-4308-8376-1886a94da896')\"\n",
              "              title=\"Convert this dataframe to an interactive table.\"\n",
              "              style=\"display:none;\">\n",
              "        \n",
              "  <svg xmlns=\"http://www.w3.org/2000/svg\" height=\"24px\"viewBox=\"0 0 24 24\"\n",
              "       width=\"24px\">\n",
              "    <path d=\"M0 0h24v24H0V0z\" fill=\"none\"/>\n",
              "    <path d=\"M18.56 5.44l.94 2.06.94-2.06 2.06-.94-2.06-.94-.94-2.06-.94 2.06-2.06.94zm-11 1L8.5 8.5l.94-2.06 2.06-.94-2.06-.94L8.5 2.5l-.94 2.06-2.06.94zm10 10l.94 2.06.94-2.06 2.06-.94-2.06-.94-.94-2.06-.94 2.06-2.06.94z\"/><path d=\"M17.41 7.96l-1.37-1.37c-.4-.4-.92-.59-1.43-.59-.52 0-1.04.2-1.43.59L10.3 9.45l-7.72 7.72c-.78.78-.78 2.05 0 2.83L4 21.41c.39.39.9.59 1.41.59.51 0 1.02-.2 1.41-.59l7.78-7.78 2.81-2.81c.8-.78.8-2.07 0-2.86zM5.41 20L4 18.59l7.72-7.72 1.47 1.35L5.41 20z\"/>\n",
              "  </svg>\n",
              "      </button>\n",
              "      \n",
              "  <style>\n",
              "    .colab-df-container {\n",
              "      display:flex;\n",
              "      flex-wrap:wrap;\n",
              "      gap: 12px;\n",
              "    }\n",
              "\n",
              "    .colab-df-convert {\n",
              "      background-color: #E8F0FE;\n",
              "      border: none;\n",
              "      border-radius: 50%;\n",
              "      cursor: pointer;\n",
              "      display: none;\n",
              "      fill: #1967D2;\n",
              "      height: 32px;\n",
              "      padding: 0 0 0 0;\n",
              "      width: 32px;\n",
              "    }\n",
              "\n",
              "    .colab-df-convert:hover {\n",
              "      background-color: #E2EBFA;\n",
              "      box-shadow: 0px 1px 2px rgba(60, 64, 67, 0.3), 0px 1px 3px 1px rgba(60, 64, 67, 0.15);\n",
              "      fill: #174EA6;\n",
              "    }\n",
              "\n",
              "    [theme=dark] .colab-df-convert {\n",
              "      background-color: #3B4455;\n",
              "      fill: #D2E3FC;\n",
              "    }\n",
              "\n",
              "    [theme=dark] .colab-df-convert:hover {\n",
              "      background-color: #434B5C;\n",
              "      box-shadow: 0px 1px 3px 1px rgba(0, 0, 0, 0.15);\n",
              "      filter: drop-shadow(0px 1px 2px rgba(0, 0, 0, 0.3));\n",
              "      fill: #FFFFFF;\n",
              "    }\n",
              "  </style>\n",
              "\n",
              "      <script>\n",
              "        const buttonEl =\n",
              "          document.querySelector('#df-6690ca70-ddb0-4308-8376-1886a94da896 button.colab-df-convert');\n",
              "        buttonEl.style.display =\n",
              "          google.colab.kernel.accessAllowed ? 'block' : 'none';\n",
              "\n",
              "        async function convertToInteractive(key) {\n",
              "          const element = document.querySelector('#df-6690ca70-ddb0-4308-8376-1886a94da896');\n",
              "          const dataTable =\n",
              "            await google.colab.kernel.invokeFunction('convertToInteractive',\n",
              "                                                     [key], {});\n",
              "          if (!dataTable) return;\n",
              "\n",
              "          const docLinkHtml = 'Like what you see? Visit the ' +\n",
              "            '<a target=\"_blank\" href=https://colab.research.google.com/notebooks/data_table.ipynb>data table notebook</a>'\n",
              "            + ' to learn more about interactive tables.';\n",
              "          element.innerHTML = '';\n",
              "          dataTable['output_type'] = 'display_data';\n",
              "          await google.colab.output.renderOutput(dataTable, element);\n",
              "          const docLink = document.createElement('div');\n",
              "          docLink.innerHTML = docLinkHtml;\n",
              "          element.appendChild(docLink);\n",
              "        }\n",
              "      </script>\n",
              "    </div>\n",
              "  </div>\n",
              "  "
            ]
          },
          "metadata": {},
          "execution_count": 20
        }
      ]
    },
    {
      "cell_type": "code",
      "source": [
        "df.groupby('tipo_quarto',dropna=False).size().sort_values(ascending=False).plot.bar(figsize=(12,8))"
      ],
      "metadata": {
        "id": "T7YwuRHSTi-T",
        "colab": {
          "base_uri": "https://localhost:8080/",
          "height": 633
        },
        "outputId": "b09e49ea-239b-49bf-ad9a-7ea0fae34a64"
      },
      "execution_count": 21,
      "outputs": [
        {
          "output_type": "execute_result",
          "data": {
            "text/plain": [
              "<Axes: xlabel='tipo_quarto'>"
            ]
          },
          "metadata": {},
          "execution_count": 21
        },
        {
          "output_type": "display_data",
          "data": {
            "text/plain": [
              "<Figure size 864x576 with 1 Axes>"
            ],
            "image/png": "[encoded data removed]"
          },
          "metadata": {
            "needs_background": "light"
          }
        }
      ]
    },
    {
      "cell_type": "code",
      "source": [
        "df.groupby('tipo_quarto',dropna=False).size().sort_values(ascending=False).plot.pie(figsize=(12,8))"
      ],
      "metadata": {
        "id": "KzObbCySE5L3",
        "colab": {
          "base_uri": "https://localhost:8080/",
          "height": 483
        },
        "outputId": "aa9dc69a-cec2-4b4e-9b03-7d87413e17f3"
      },
      "execution_count": 22,
      "outputs": [
        {
          "output_type": "execute_result",
          "data": {
            "text/plain": [
              "<Axes: ylabel='None'>"
            ]
          },
          "metadata": {},
          "execution_count": 22
        },
        {
          "output_type": "display_data",
          "data": {
            "text/plain": [
              "<Figure size 864x576 with 1 Axes>"
            ],
            "image/png": "[encoded data removed]"
          },
          "metadata": {}
        }
      ]
    },
    {
      "cell_type": "code",
      "source": [
        "df.groupby('tipo_quarto',dropna=False).size().sort_values(ascending=False).plot.line(figsize=(12,8))"
      ],
      "metadata": {
        "colab": {
          "base_uri": "https://localhost:8080/",
          "height": 516
        },
        "id": "K9-8QeAEKuR9",
        "outputId": "788ff2a1-ee13-4530-8183-d91cf2347304"
      },
      "execution_count": 23,
      "outputs": [
        {
          "output_type": "execute_result",
          "data": {
            "text/plain": [
              "<Axes: xlabel='tipo_quarto'>"
            ]
          },
          "metadata": {},
          "execution_count": 23
        },
        {
          "output_type": "display_data",
          "data": {
            "text/plain": [
              "<Figure size 864x576 with 1 Axes>"
            ],
            "image/png": "[encoded data removed]"
          },
          "metadata": {
            "needs_background": "light"
          }
        }
      ]
    }
  ]
}